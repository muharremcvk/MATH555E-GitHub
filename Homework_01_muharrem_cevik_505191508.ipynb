{
 "cells": [
  {
   "cell_type": "markdown",
   "metadata": {},
   "source": [
    "# Question 1\n",
    "\n",
    "Write a python function that returns $2\\sin(x^2) + \\ln(|x|) + 1$ for a given real number $x$."
   ]
  },
  {
   "cell_type": "code",
   "execution_count": 36,
   "metadata": {},
   "outputs": [
    {
     "data": {
      "text/plain": [
       "2.2264864286847095"
      ]
     },
     "execution_count": 36,
     "metadata": {},
     "output_type": "execute_result"
    }
   ],
   "source": [
    "import math\n",
    "def f(x):\n",
    "    return 2*math.sin(math.radians(x**2))+ math.log(abs(x))+1\n",
    "f(-25)\n",
    "\n"
   ]
  },
  {
   "cell_type": "markdown",
   "metadata": {},
   "source": [
    "# Question 2\n",
    "\n",
    "Write a python function that takes\n",
    "\n",
    "* A function `f(x)`\n",
    "* A pair of real numbers `(a,b)`\n",
    "* An integer `N`\n",
    "\n",
    "as input and returns the Riemann sum of `f(x)` on the interval `[a,b]` with `N` equal subdivisions."
   ]
  },
  {
   "cell_type": "code",
   "execution_count": null,
   "metadata": {},
   "outputs": [],
   "source": [
    "def f(x):\n",
    "    return x**2\n",
    "a=int(input(\"enter the starting point\")) #interval of [a,b]\n",
    "b=int(input(\"enter the end point\"))      \n",
    "N=int(input(\"enter the subdivisions\"))   #number of equal subdivisions\n",
    "\n",
    "delta_x= (b-a)/N\n",
    "\n",
    "xi=0\n",
    "summ=0\n",
    "for i in range(N):      #calculation area under the curve\n",
    "    xi= xi+ delta_x;\n",
    "    summ=summ+ f(xi)\n",
    "    \n",
    "print(summ*delta_x)"
   ]
  },
  {
   "cell_type": "markdown",
   "metadata": {},
   "source": [
    "# Question 3\n",
    "\n",
    "* Pull 100 uniformly random numbers from the interval $[0,1]$ as an array `xs`.\n",
    "* Add 0 at the beginning of the array, and 1.0 at the end.\n",
    "* Sort the array `xs` from smallest to the largest.\n",
    "* Calculate its discrete derivative `ys`, i.e. let $y_i = x_{i+1} - x_i$"
   ]
  },
  {
   "cell_type": "code",
   "execution_count": null,
   "metadata": {},
   "outputs": [],
   "source": [
    "import numpy as np\n",
    "\n",
    "random= np.random.uniform(0,1,100) #Generating 100 uniform numbers between 0 and 1\n",
    "a0=np.array(0)\n",
    "a1=np.array(1)                     #Adding 0 at the beginning of the array, and 1.0 at the end\n",
    "a2=np.append(a0,random)\n",
    "a3=np.append(a2,a1)\n",
    "xs=np.sort(a3)                     #sorting the array xs\n",
    "ys=np.gradient(xs)                 #derivative\n",
    "print(xs)\n",
    "print(ys)"
   ]
  },
  {
   "cell_type": "markdown",
   "metadata": {},
   "source": [
    "# Question 4\n",
    "\n",
    "* Pull 100 uniformly random numbers from the interval $[0,1]$ into an array `xs`.\n",
    "* Pull 100 random numbers from the Gaussion distribution with $\\mu=0$ and $\\sigma=1.0$ into an array `ys`.\n",
    "* Scatter plot `xs` against `ys` using `matplotlib`\n"
   ]
  },
  {
   "cell_type": "code",
   "execution_count": null,
   "metadata": {},
   "outputs": [],
   "source": [
    "import numpy as np\n",
    "import matplotlib.pyplot as plt\n",
    "\n",
    "xs=np.random.random(100)         #Generating 100 random numbers\n",
    "ys=np.random.normal(0,1,100)     #Generating 100 random numbers from the Gaussion distribution with  𝜇=0  and  𝜎=1.0\n",
    "plt.scatter(xs,ys)               #Scatter plot"
   ]
  },
  {
   "cell_type": "markdown",
   "metadata": {},
   "source": [
    "# Question 5\n",
    "\n",
    "Using the `numpy` library\n",
    "\n",
    "* Pull a random $100\\times 100$ matrix\n",
    "* Calculate its 100-th power\n",
    "* Calculate its eigen-values\n",
    "* Calculate is [Singular Value Decomposition](https://numpy.org/doc/stable/reference/generated/numpy.linalg.svd.html)"
   ]
  },
  {
   "cell_type": "code",
   "execution_count": null,
   "metadata": {},
   "outputs": [],
   "source": [
    "import numpy as np\n",
    "from scipy import linalg as lg\n",
    "\n",
    "A= np.random.rand(100,100)            #Generating 100x100 random matrix\n",
    "A100th=np.linalg.matrix_power(A,100)  #Calculating its 100-th power\n",
    "evalues=lg.eig(A)                     #Calculating its eigen-values\n",
    "evalues"
   ]
  },
  {
   "cell_type": "markdown",
   "metadata": {},
   "source": [
    "# Question 6\n",
    "\n",
    "* Pull the text of a novel by Dickens from the website of [Gutenberg Project](https://www.gutenberg.org/)\n",
    "* Remove all non-alphanumeric characters \n",
    "* Split the text into words and convert them into lower case\n",
    "* Count the number of distinct words in the  text\n",
    "* Count how many times each word occurs within the text"
   ]
  },
  {
   "cell_type": "code",
   "execution_count": null,
   "metadata": {},
   "outputs": [],
   "source": [
    "import os\n",
    "import requests\n",
    "import nltk\n",
    "from bs4 import BeautifulSoup\n",
    "import re\n",
    "\n",
    "url = 'https://www.gutenberg.org/files/967/967-h/967-h.htm'\n",
    "\n",
    "response=requests.get(url)\n",
    "whtext=BeautifulSoup(response.text, 'html.parser')   #Pulls the whole text from the url\n",
    "text=whtext.get_text()\n",
    "words=re.findall('\\w+',text)                         #Removing all non-alphanumeric characters and spliting the text into words\n",
    "lowered=[]                                           #convert the words into lower case\n",
    "lowered\n",
    "\n",
    "for word in words: \n",
    "    lowered.append(word.lower())\n",
    "\n",
    "text=nltk.Text(lowered)\n",
    "hmtewords=nltk.FreqDist(text)                       #counting how many times each word occurs within the text\n",
    "hmtewords"
   ]
  },
  {
   "cell_type": "markdown",
   "metadata": {},
   "source": [
    "# Question 7\n",
    "\n",
    "* Write a python function `CountWords` that takes the URL for a text and returns the number of unique words within the text.\n",
    "* Write a python function `Top20Words` that takes the URL for a text and returns the most frequently appearing top 20 words within the text."
   ]
  },
  {
   "cell_type": "code",
   "execution_count": null,
   "metadata": {},
   "outputs": [],
   "source": [
    "import os\n",
    "import requests\n",
    "import nltk\n",
    "from bs4 import BeautifulSoup\n",
    "import re\n",
    "\n",
    "def Top20Words(url, n):\n",
    "\n",
    "    response= requests.get(url)\n",
    "    whtext= BeautifulSoup(response.text, 'html.parser')\n",
    "    text=whtext.get_text()\n",
    "    words= re.findall('\\w+', text)\n",
    "    lowered= []\n",
    "    \n",
    "    for word in words:\n",
    "        lowered.append(word.lower())\n",
    "        \n",
    "    text= nltk.Text(lowered)\n",
    "    hmtewords= nltk.FreqDist(text)\n",
    "    hmtewords.plot(n)\n"
   ]
  },
  {
   "cell_type": "markdown",
   "metadata": {},
   "source": [
    "# Question 8\n",
    "\n",
    "* Pull the [IMKB](https://archive.ics.uci.edu/ml/machine-learning-databases/00247/data_akbilgic.xlsx) data from UCI using pandas.\n",
    "* Plot the TL based ISE and USD based ISE columns together in the same graph.\n",
    "* Calculate how many times `NIKKEI` was higher than `FTSE`."
   ]
  },
  {
   "cell_type": "code",
   "execution_count": null,
   "metadata": {},
   "outputs": [],
   "source": [
    "import pandas as pd\n",
    "import matplotlib.pyplot as plt\n",
    "import numpy as np\n",
    "\n",
    "data= pd.read_excel('https://archive.ics.uci.edu/ml/machine-learning-databases/00247/data_akbilgic.xlsx') #pull data from url\n",
    "data1=data.iloc[:,[1,2]]    #pulling the columns\n",
    "\n",
    "data2=data1.drop([0])      #removing zeroth row\n",
    "iseTL = data2.iloc[:,0]\n",
    "iseUSD = data2.iloc[:,1]\n",
    "xt = np.transpose(iseTL)\n",
    "yt = np.transpose(iseUSD)\n",
    "\n",
    "plt.plot(xt, yt,'o', color='black') #ploting the TL based ISE and USD based ISE columns together in the same graph\n",
    "\n",
    "ftnk = (data.iloc[:,[5,6]]).drop([0])\n",
    "ftnk.rename(columns ={'Unnamed: 5' : 'FTSE', 'Unnamed: 6' : 'NIKKEI'}, inplace = True) #renameing\n",
    "ftnk['greatness'] = np.where(ftnk['FTSE'] <= ftnk['NIKKEI'], 1, 0)\n",
    "cnt = ftnk['greatness'].sum()    #calculating how many times `NIKKEI` was higher than `FTSE`\n",
    "cnt"
   ]
  },
  {
   "cell_type": "markdown",
   "metadata": {},
   "source": [
    "# Question 9\n",
    "\n",
    "Using the [networkx](https://networkx.org/) library\n",
    "\n",
    "* Get the [adjacency matrix](https://en.wikipedia.org/wiki/Adjacency_matrix) of the [Peterson graph](https://en.wikipedia.org/wiki/Petersen_graph).\n",
    "* Calculate its eigen-values and eigen-vectors using the [numpy](https://numpy.org/) library.\n",
    "* Repeat the same for a [random 3-regular graph on 10 vertices](https://networkx.org/documentation/networkx-1.10/reference/generated/networkx.generators.random_graphs.random_regular_graph.html)."
   ]
  },
  {
   "cell_type": "code",
   "execution_count": null,
   "metadata": {},
   "outputs": [],
   "source": [
    "import networkx as nx\n",
    "import matplotlib.pyplot as plt\n",
    "import numpy as np\n",
    "from numpy import linalg as LA\n",
    "\n",
    "\n",
    "Graph = nx.petersen_graph()\n",
    "nx.draw_shell(Graph, nlist=[range(5, 10), range(5)],  font_weight='bold',node_color=range(10),cmap=plt.cm.Blues,font_color='r',style='dotted')\n",
    "plt.show()\n",
    "\n",
    "A = nx.to_numpy_matrix(Graph)              #adjecency matrix of petersen graph\n",
    "print('adjecency matrix :\\n',A)\n",
    "\n",
    "w, v = np.linalg.eig(A)                    #calculating its eigen-values and eigen-vectors\n",
    "\n",
    "print('eigen values are :\\n',w)\n",
    "print('eigen vectors are :\\n',v)\n",
    "\n",
    "\n",
    "\n",
    "C=nx.random_regular_graph(3,10,seed=None)  #generating a random 3-regular graph on 10 vertices\n",
    "nx.draw(C)\n",
    "\n",
    "B = nx.to_numpy_matrix(C)                  #adjecency matrix of petersen graph of the random graph\n",
    "print('adjecency matrix :\\n',B)\n",
    "\n",
    "k, l = np.linalg.eig(B)                    # #calculating its eigen-values and eigen-vectors\n",
    "\n",
    "print('eigen values are :\\n',k)\n",
    "print('eigen vectors are :\\n',l)\n"
   ]
  },
  {
   "cell_type": "code",
   "execution_count": null,
   "metadata": {},
   "outputs": [],
   "source": []
  }
 ],
 "metadata": {
  "kernelspec": {
   "display_name": "Python 3",
   "language": "python",
   "name": "python3"
  },
  "language_info": {
   "codemirror_mode": {
    "name": "ipython",
    "version": 3
   },
   "file_extension": ".py",
   "mimetype": "text/x-python",
   "name": "python",
   "nbconvert_exporter": "python",
   "pygments_lexer": "ipython3",
   "version": "3.7.6"
  }
 },
 "nbformat": 4,
 "nbformat_minor": 4
}
